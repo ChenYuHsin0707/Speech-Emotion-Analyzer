{
  "cells": [
    {
      "cell_type": "markdown",
      "metadata": {
        "id": "view-in-github",
        "colab_type": "text"
      },
      "source": [
        "<a href=\"https://colab.research.google.com/github/ChenYuHsin0707/Speech-Emotion-Analyzer/blob/master/1.0_ASA.ipynb\" target=\"_parent\"><img src=\"https://colab.research.google.com/assets/colab-badge.svg\" alt=\"Open In Colab\"/></a>"
      ]
    },
    {
      "cell_type": "markdown",
      "source": [
        "# IE-304 程式教材範例\n",
        "這份程式碼提供用作 Colab 之基本操作、上傳檔案之練習。\n",
        "請各位同學自由下載使用。"
      ],
      "metadata": {
        "id": "ERzXeUd0tkVa"
      },
      "id": "ERzXeUd0tkVa"
    },
    {
      "cell_type": "code",
      "execution_count": 1,
      "id": "25ab3788",
      "metadata": {
        "id": "25ab3788"
      },
      "outputs": [],
      "source": [
        "\"\"\"\n",
        "Created on Sat Jan 20 18:38:15 2018\n",
        "\n",
        "@author: ieccheng\n",
        "\"\"\"\n",
        "import pandas as pd\n",
        "import statsmodels.api as sm\n",
        "import numpy as np\n",
        "import matplotlib.pyplot as plt\n",
        "import seaborn as sns\n",
        "import statsmodels.graphics.api as smg"
      ]
    },
    {
      "cell_type": "markdown",
      "source": [
        "# 讀取 ASA.csv 之資料"
      ],
      "metadata": {
        "id": "i8O0Ku_Bf4Ah"
      },
      "id": "i8O0Ku_Bf4Ah"
    },
    {
      "cell_type": "code",
      "execution_count": 2,
      "id": "c31bce22",
      "metadata": {
        "colab": {
          "base_uri": "https://localhost:8080/"
        },
        "id": "c31bce22",
        "outputId": "519336b3-eee2-4756-9313-0e9b7c2d8db8"
      },
      "outputs": [
        {
          "output_type": "stream",
          "name": "stdout",
          "text": [
            "            Date       Sales    Score1    Score2    HeatFlux  Insolation  \\\n",
            "count  18.000000   18.000000  9.000000  9.000000   29.000000   29.000000   \n",
            "mean    5.000000  168.555556  5.788889  2.377778  249.637931  754.474138   \n",
            "std     2.656845   32.344146  2.589616  0.576146   22.898790   79.796824   \n",
            "min     1.000000  100.000000  2.200000  1.500000  181.500000  568.550000   \n",
            "25%     3.000000  150.000000  4.100000  2.100000  238.800000  704.050000   \n",
            "50%     5.000000  176.000000  6.000000  2.500000  257.900000  756.000000   \n",
            "75%     7.000000  190.500000  8.000000  2.800000  265.800000  801.650000   \n",
            "max     9.000000  220.000000  9.000000  3.200000  278.700000  909.450000   \n",
            "\n",
            "            East      South      North       Time  EnergyConsumption  \\\n",
            "count  29.000000  29.000000  29.000000  29.000000          10.000000   \n",
            "mean   35.096552  35.529310  16.702069  13.226552           8.190000   \n",
            "std     1.416994   1.852974   0.908183   1.946905          11.622818   \n",
            "min    31.080000  31.840000  15.540000  10.530000           0.800000   \n",
            "25%    34.460000  34.140000  16.040000  11.410000           1.200000   \n",
            "50%    35.350000  35.890000  16.450000  13.100000           3.900000   \n",
            "75%    35.770000  36.500000  17.370000  14.510000           6.625000   \n",
            "max    37.820000  40.550000  19.050000  16.730000          36.200000   \n",
            "\n",
            "       MachineSetting      Weight   Survival     Region  ToxicLevel        Age  \n",
            "count       10.000000   92.000000  73.000000  73.000000   73.000000  30.000000  \n",
            "mean        21.575000  145.152174   1.958904   1.547945   43.907534  11.533333  \n",
            "std          5.529479   23.739398   0.610973   0.501140    8.333178   1.136642  \n",
            "min         11.150000   95.000000   1.000000   1.000000   30.000000  10.000000  \n",
            "25%         19.025000  125.000000   2.000000   1.000000   38.500000  11.000000  \n",
            "50%         21.550000  145.000000   2.000000   2.000000   43.500000  11.500000  \n",
            "75%         26.125000  155.500000   2.000000   2.000000   48.000000  12.750000  \n",
            "max         29.100000  215.000000   3.000000   2.000000   72.000000  13.000000  \n"
          ]
        }
      ],
      "source": [
        "df = pd.read_csv('https://raw.githubusercontent.com/IE-304/IE-304/main/1.1_ASA.csv') # 請在這行引用 1.1_ASA.csv 的資料\n",
        "dataset=df.values\n",
        "print(df.describe())"
      ]
    },
    {
      "cell_type": "code",
      "execution_count": 3,
      "id": "7145268e",
      "metadata": {
        "colab": {
          "base_uri": "https://localhost:8080/"
        },
        "id": "7145268e",
        "outputId": "7615cb82-b50c-42f4-dbd0-d542bbc5c91b"
      },
      "outputs": [
        {
          "output_type": "stream",
          "name": "stdout",
          "text": [
            "\n",
            " Descriptive Statistics:\n",
            "\n",
            "Sum of Score 1: count    9.000000\n",
            "mean     5.788889\n",
            "std      2.589616\n",
            "min      2.200000\n",
            "25%      4.100000\n",
            "50%      6.000000\n",
            "75%      8.000000\n",
            "max      9.000000\n",
            "Name: Score1, dtype: float64\n",
            "\n",
            "Sum of Score 1: 52.1\n",
            "\n",
            "Sum of Scores 1 and 2:\n",
            "          Score1    Score2\n",
            "count  9.000000  9.000000\n",
            "mean   5.788889  2.377778\n",
            "std    2.589616  0.576146\n",
            "min    2.200000  1.500000\n",
            "25%    4.100000  2.100000\n",
            "50%    6.000000  2.500000\n",
            "75%    8.000000  2.800000\n",
            "max    9.000000  3.200000\n"
          ]
        }
      ],
      "source": [
        "print('\\n Descriptive Statistics:')\n",
        "print('\\nSum of Score 1:', df[\"Score1\"].describe())\n",
        "print('\\nSum of Score 1:', df[\"Score1\"].sum())\n",
        "print('\\nSum of Scores 1 and 2:\\n', df[[\"Score1\", \"Score2\"]].describe())"
      ]
    },
    {
      "cell_type": "markdown",
      "source": [
        "# 請各位練習讀取 ASA1.csv 之資料"
      ],
      "metadata": {
        "id": "ubDkwuBfgY2i"
      },
      "id": "ubDkwuBfgY2i"
    },
    {
      "cell_type": "code",
      "source": [
        "df = pd.read_csv() # 請在這行引用 1.2_ASA1.csv 的資料，可多嘗試其它方法。\n",
        "data=df.values\n",
        "plt.hist(data[:,4], bins=5)"
      ],
      "metadata": {
        "id": "aDdXbO3wd2Xz",
        "outputId": "528c85f7-4f2b-40d5-99d8-cbbb0800d425",
        "colab": {
          "base_uri": "https://localhost:8080/",
          "height": 176
        }
      },
      "id": "aDdXbO3wd2Xz",
      "execution_count": 4,
      "outputs": [
        {
          "output_type": "error",
          "ename": "TypeError",
          "evalue": "read_csv() missing 1 required positional argument: 'filepath_or_buffer'",
          "traceback": [
            "\u001b[0;31m---------------------------------------------------------------------------\u001b[0m",
            "\u001b[0;31mTypeError\u001b[0m                                 Traceback (most recent call last)",
            "\u001b[0;32m<ipython-input-4-c2bd0fca8af2>\u001b[0m in \u001b[0;36m<cell line: 1>\u001b[0;34m()\u001b[0m\n\u001b[0;32m----> 1\u001b[0;31m \u001b[0mdf\u001b[0m \u001b[0;34m=\u001b[0m \u001b[0mpd\u001b[0m\u001b[0;34m.\u001b[0m\u001b[0mread_csv\u001b[0m\u001b[0;34m(\u001b[0m\u001b[0;34m)\u001b[0m \u001b[0;31m# 請在這行引用 1.2_ASA1.csv 的資料，可多嘗試其它方法。\u001b[0m\u001b[0;34m\u001b[0m\u001b[0;34m\u001b[0m\u001b[0m\n\u001b[0m\u001b[1;32m      2\u001b[0m \u001b[0mdata\u001b[0m\u001b[0;34m=\u001b[0m\u001b[0mdf\u001b[0m\u001b[0;34m.\u001b[0m\u001b[0mvalues\u001b[0m\u001b[0;34m\u001b[0m\u001b[0;34m\u001b[0m\u001b[0m\n\u001b[1;32m      3\u001b[0m \u001b[0mplt\u001b[0m\u001b[0;34m.\u001b[0m\u001b[0mhist\u001b[0m\u001b[0;34m(\u001b[0m\u001b[0mdata\u001b[0m\u001b[0;34m[\u001b[0m\u001b[0;34m:\u001b[0m\u001b[0;34m,\u001b[0m\u001b[0;36m4\u001b[0m\u001b[0;34m]\u001b[0m\u001b[0;34m,\u001b[0m \u001b[0mbins\u001b[0m\u001b[0;34m=\u001b[0m\u001b[0;36m5\u001b[0m\u001b[0;34m)\u001b[0m\u001b[0;34m\u001b[0m\u001b[0;34m\u001b[0m\u001b[0m\n",
            "\u001b[0;31mTypeError\u001b[0m: read_csv() missing 1 required positional argument: 'filepath_or_buffer'"
          ]
        }
      ]
    },
    {
      "cell_type": "markdown",
      "source": [],
      "metadata": {
        "id": "84feed3b"
      },
      "id": "84feed3b"
    },
    {
      "cell_type": "code",
      "execution_count": 5,
      "id": "8f877969",
      "metadata": {
        "colab": {
          "base_uri": "https://localhost:8080/",
          "height": 70
        },
        "id": "8f877969",
        "outputId": "20d0c6ec-75b5-4d10-aae6-c98ba3f30276"
      },
      "outputs": [
        {
          "output_type": "execute_result",
          "data": {
            "text/plain": [
              "'#SNS\\n#increase font size of all elements\\nsns.set(font_scale=1.5)\\nsns.boxplot(x=\"Score1\",data=df).set(title=\\'Boxplot\\')\\nplt.show()\\n#plot multiple lines\\nsns.lineplot(x=\\'Date\\', y=\\'Sales\\', hue=\\'Company\\', data=df).set(title=\\'Sales Data\\')\\nplt.show()'"
            ],
            "application/vnd.google.colaboratory.intrinsic+json": {
              "type": "string"
            }
          },
          "metadata": {},
          "execution_count": 5
        }
      ],
      "source": [
        "'''#SNS\n",
        "#increase font size of all elements\n",
        "sns.set(font_scale=1.5)\n",
        "sns.boxplot(x=\"Score1\",data=df).set(title='Boxplot')\n",
        "plt.show()\n",
        "#plot multiple lines\n",
        "sns.lineplot(x='Date', y='Sales', hue='Company', data=df).set(title='Sales Data')\n",
        "plt.show()'''"
      ]
    },
    {
      "cell_type": "code",
      "execution_count": null,
      "id": "551dfd4c",
      "metadata": {
        "colab": {
          "base_uri": "https://localhost:8080/",
          "height": 36
        },
        "id": "551dfd4c",
        "outputId": "2d0bfe05-db71-40d6-c85a-fddb249a03c0"
      },
      "outputs": [
        {
          "output_type": "execute_result",
          "data": {
            "text/plain": [
              "'#Using matplotlib\\nplt.hist(df[\"Weight\"])\\nplt.show()\\nsns.pairplot(df[[\"HeatFlux\", \"East\", \"South\", \"North\"]])\\nsns.set(font_scale=1.0)\\nplt.show()'"
            ],
            "application/vnd.google.colaboratory.intrinsic+json": {
              "type": "string"
            }
          },
          "metadata": {},
          "execution_count": 41
        }
      ],
      "source": [
        "'''#Using matplotlib\n",
        "plt.hist(df[\"Weight\"])\n",
        "plt.show()\n",
        "sns.pairplot(df[[\"HeatFlux\", \"East\", \"South\", \"North\"]])\n",
        "sns.set(font_scale=1.0)\n",
        "plt.show()'''"
      ]
    }
  ],
  "metadata": {
    "jupytext": {
      "cell_metadata_filter": "-all",
      "main_language": "python",
      "notebook_metadata_filter": "-all"
    },
    "colab": {
      "provenance": [],
      "include_colab_link": true
    },
    "language_info": {
      "name": "python"
    },
    "kernelspec": {
      "name": "python3",
      "display_name": "Python 3"
    }
  },
  "nbformat": 4,
  "nbformat_minor": 5
}